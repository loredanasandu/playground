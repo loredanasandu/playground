{
 "cells": [
  {
   "attachments": {},
   "cell_type": "markdown",
   "metadata": {},
   "source": [
    "# <a id='toc1_'></a>[2. Guidelines and Principles for prompting](#toc0_)"
   ]
  },
  {
   "attachments": {},
   "cell_type": "markdown",
   "metadata": {},
   "source": [
    "**Table of contents**<a id='toc0_'></a>\n",
    "- [Principle 1: write clear and specific instructions](#toc1_1_)    \n",
    "    - [Tactic 1: use delimiters to indicate distinct parts of the input.](#toc1_1_1_1_)    \n",
    "    - [Tactic 2: Ask for structured output.](#toc1_1_1_2_)    \n",
    "    - [Tactic 3: Check whether conditions are met. Check assumptions and preconditions required to do the task.](#toc1_1_1_3_)    \n",
    "    - [Tactic 4: \"Few-shot\" prompts.](#toc1_1_1_4_)    \n",
    "- [Principle 2: give the model \"time to think\"](#toc1_2_)    \n",
    "    - [Tactic 1: Specify the steps required to complete the task.](#toc1_2_1_1_)    \n",
    "    - [Tactic 2: Ask the model to work out its solution before giving the final answer.](#toc1_2_1_2_)    \n",
    "- [Model limitations: hallucinations](#toc1_3_)    \n",
    "    - [Tactic to reduce hallucinations: ask the model to find relevant information to answer the question, and then answer the question based on that information.](#toc1_3_1_1_)    \n",
    "- [Own experiment: instructions for wrapping a gift and a tea cup](#toc1_4_)    \n",
    "- [Another own experiment: analysis of Shakespeare's Sonnet 116](#toc1_5_)    \n",
    "\n",
    "<!-- vscode-jupyter-toc-config\n",
    "\tnumbering=false\n",
    "\tanchor=true\n",
    "\tflat=false\n",
    "\tminLevel=1\n",
    "\tmaxLevel=6\n",
    "\t/vscode-jupyter-toc-config -->\n",
    "<!-- THIS CELL WILL BE REPLACED ON TOC UPDATE. DO NOT WRITE YOUR TEXT IN THIS CELL -->"
   ]
  },
  {
   "cell_type": "code",
   "execution_count": 4,
   "metadata": {},
   "outputs": [],
   "source": [
    "import openai\n",
    "import os\n",
    "\n",
    "from dotenv import load_dotenv\n",
    "load_dotenv()\n",
    "\n",
    "openai.api_key = os.getenv(\"OPENAI_API_KEY\")"
   ]
  },
  {
   "cell_type": "code",
   "execution_count": 5,
   "metadata": {},
   "outputs": [],
   "source": [
    "def get_completion(prompt, model=\"gpt-3.5-turbo\"):\n",
    "    messages = [{\n",
    "        \"role\":\"user\",\n",
    "        \"content\":prompt,\n",
    "    }]\n",
    "\n",
    "    response = openai.ChatCompletion.create(\n",
    "        model=model, \n",
    "        messages=messages,\n",
    "        temperature=0.0    # degree of randomness of the model's output\n",
    "    )\n",
    "\n",
    "    return response.choices[0].message['content']"
   ]
  },
  {
   "attachments": {},
   "cell_type": "markdown",
   "metadata": {},
   "source": [
    "## <a id='toc1_1_'></a>[Principle 1: write clear and specific instructions](#toc0_)\n",
    "\n",
    "Clear $\\neq$ Short. More clarity and context is better (more detailed, more relevant outputs).\n",
    "\n",
    "#### <a id='toc1_1_1_1_'></a>[Tactic 1: use delimiters to indicate distinct parts of the input.](#toc0_)\n",
    "- triple quotes: \"\"\" (e.g. for distinct text blocks)\n",
    "- triple backticks: ``` (e.g. for distinct code blocks)\n",
    "- triple dashes: --- (e.g. for distinct sections)\n",
    "- angle brackets: <...> \n",
    "- xml tags: <tag>...</tag> "
   ]
  },
  {
   "cell_type": "code",
   "execution_count": 14,
   "metadata": {},
   "outputs": [
    {
     "name": "stdout",
     "output_type": "stream",
     "text": [
      "Clear and specific instructions should be provided to guide a model towards the desired output, and longer prompts can provide more clarity and context for the model, leading to more detailed and relevant outputs.\n"
     ]
    }
   ],
   "source": [
    "text = f\"\"\"\n",
    "You should express what you want a model to do by \\ \n",
    "providing instructions that are as clear and \\ \n",
    "specific as you can possibly make them. \\ \n",
    "This will guide the model towards the desired output, \\ \n",
    "and reduce the chances of receiving irrelevant \\ \n",
    "or incorrect responses. Don't confuse writing a \\ \n",
    "clear prompt with writing a short prompt. \\ \n",
    "In many cases, longer prompts provide more clarity \\ \n",
    "and context for the model, which can lead to \\ \n",
    "more detailed and relevant outputs.\n",
    "\"\"\"\n",
    "prompt = f\"\"\"\n",
    "Summarize the text delimited by triple backticks \\ \n",
    "into a single sentence.\n",
    "```{text}```\n",
    "\"\"\"\n",
    "\n",
    "response = get_completion(prompt)\n",
    "print(response)"
   ]
  },
  {
   "attachments": {},
   "cell_type": "markdown",
   "metadata": {},
   "source": [
    "#### <a id='toc1_1_1_2_'></a>[Tactic 2: Ask for structured output.](#toc0_)\n",
    "\n",
    "E.g. JSON, HTML, CSV, etc."
   ]
  },
  {
   "cell_type": "code",
   "execution_count": 15,
   "metadata": {},
   "outputs": [
    {
     "name": "stdout",
     "output_type": "stream",
     "text": [
      "JSON format:\n",
      "```\n",
      "[\n",
      "  {\n",
      "    \"book_id\": 1,\n",
      "    \"title\": \"The Lost City\",\n",
      "    \"author\": \"Samantha Lee\",\n",
      "    \"genre\": \"Adventure\"\n",
      "  },\n",
      "  {\n",
      "    \"book_id\": 2,\n",
      "    \"title\": \"The Secret Garden of Dreams\",\n",
      "    \"author\": \"Olivia Chen\",\n",
      "    \"genre\": \"Fantasy\"\n",
      "  },\n",
      "  {\n",
      "    \"book_id\": 3,\n",
      "    \"title\": \"The Last Hope\",\n",
      "    \"author\": \"David Kim\",\n",
      "    \"genre\": \"Science Fiction\"\n",
      "  }\n",
      "]\n",
      "```\n",
      "\n",
      "CSV format:\n",
      "```\n",
      "book_id,title,author,genre\n",
      "1,The Lost City,Samantha Lee,Adventure\n",
      "2,The Secret Garden of Dreams,Olivia Chen,Fantasy\n",
      "3,The Last Hope,David Kim,Science Fiction\n",
      "```\n"
     ]
    }
   ],
   "source": [
    "prompt = f\"\"\"\n",
    "Generate a list of three made-up book titles along \n",
    "with their authors and genres. \\\n",
    "Provide them in JSON format with the following keys: \n",
    "book_id, title, author, genre. \\\n",
    "Afterwards, provide them in CSV format with the \n",
    "following columns: book_id, title, author, genre.\n",
    "\"\"\"\n",
    "response = get_completion(prompt)\n",
    "print(response)"
   ]
  },
  {
   "attachments": {},
   "cell_type": "markdown",
   "metadata": {},
   "source": [
    "#### <a id='toc1_1_1_3_'></a>[Tactic 3: Check whether conditions are met. Check assumptions and preconditions required to do the task.](#toc0_)"
   ]
  },
  {
   "cell_type": "code",
   "execution_count": 16,
   "metadata": {},
   "outputs": [
    {
     "name": "stdout",
     "output_type": "stream",
     "text": [
      "Completion for Text 1:\n",
      "Step 1 - Get some water boiling.\n",
      "Step 2 - Grab a cup and put a tea bag in it.\n",
      "Step 3 - Once the water is hot enough, pour it over the tea bag.\n",
      "Step 4 - Let it sit for a bit so the tea can steep.\n",
      "Step 5 - After a few minutes, take out the tea bag.\n",
      "Step 6 - Add some sugar or milk to taste.\n",
      "Step 7 - Enjoy your delicious cup of tea!\n"
     ]
    }
   ],
   "source": [
    "# A paragraph describing the steps to make a cup of tea\n",
    "text_1 = f\"\"\"\n",
    "Making a cup of tea is easy! First, you need to get some \\ \n",
    "water boiling. While that's happening, \\ \n",
    "grab a cup and put a tea bag in it. Once the water is \\ \n",
    "hot enough, just pour it over the tea bag. \\ \n",
    "Let it sit for a bit so the tea can steep. After a \\ \n",
    "few minutes, take out the tea bag. If you \\ \n",
    "like, you can add some sugar or milk to taste. \\ \n",
    "And that's it! You've got yourself a delicious \\ \n",
    "cup of tea to enjoy.\n",
    "\"\"\"\n",
    "\n",
    "prompt = f\"\"\"\n",
    "You will be provided with text delimited by triple quotes. \n",
    "If it contains a sequence of instructions, \\ \n",
    "re-write those instructions in the following format:\n",
    "\n",
    "Step 1 - ...\n",
    "Step 2 - …\n",
    "…\n",
    "Step N - …\n",
    "\n",
    "If the text does not contain a sequence of instructions, \\ \n",
    "then simply write \\\"No steps provided.\\\"\n",
    "\n",
    "\\\"\\\"\\\"{text_1}\\\"\\\"\\\"\n",
    "\"\"\"\n",
    "\n",
    "response = get_completion(prompt)\n",
    "print(\"Completion for Text 1:\")\n",
    "print(response)"
   ]
  },
  {
   "cell_type": "code",
   "execution_count": 17,
   "metadata": {},
   "outputs": [
    {
     "name": "stdout",
     "output_type": "stream",
     "text": [
      "Completion for Text 2:\n",
      "No steps provided.\n"
     ]
    }
   ],
   "source": [
    "# A paragraph describing a beautiful day\n",
    "text_2 = f\"\"\"\n",
    "The sun is shining brightly today, and the birds are \\\n",
    "singing. It's a beautiful day to go for a \\ \n",
    "walk in the park. The flowers are blooming, and the \\ \n",
    "trees are swaying gently in the breeze. People \\ \n",
    "are out and about, enjoying the lovely weather. \\ \n",
    "Some are having picnics, while others are playing \\ \n",
    "games or simply relaxing on the grass. It's a \\ \n",
    "perfect day to spend time outdoors and appreciate the \\ \n",
    "beauty of nature.\n",
    "\"\"\"\n",
    "prompt = f\"\"\"\n",
    "You will be provided with text delimited by triple quotes. \n",
    "If it contains a sequence of instructions, \\ \n",
    "re-write those instructions in the following format:\n",
    "\n",
    "Step 1 - ...\n",
    "Step 2 - …\n",
    "…\n",
    "Step N - …\n",
    "\n",
    "If the text does not contain a sequence of instructions, \\ \n",
    "then simply write \\\"No steps provided.\\\"\n",
    "\n",
    "\\\"\\\"\\\"{text_2}\\\"\\\"\\\"\n",
    "\"\"\"\n",
    "response = get_completion(prompt)\n",
    "print(\"Completion for Text 2:\")\n",
    "print(response)"
   ]
  },
  {
   "attachments": {},
   "cell_type": "markdown",
   "metadata": {},
   "source": [
    "#### <a id='toc1_1_1_4_'></a>[Tactic 4: \"Few-shot\" prompts.](#toc0_)\n",
    "\n",
    "Give examples of the desired output, of successfully completed tasks, before asking the model to perform the task."
   ]
  },
  {
   "cell_type": "code",
   "execution_count": 18,
   "metadata": {},
   "outputs": [
    {
     "name": "stdout",
     "output_type": "stream",
     "text": [
      "<grandparent>: Resilience is like a tree that bends with the wind but never breaks. It is the ability to bounce back from adversity and keep moving forward, even when things get tough. Just like a tree that grows stronger with each storm it weathers, resilience is a quality that can be developed and strengthened over time.\n"
     ]
    }
   ],
   "source": [
    "prompt = f\"\"\"\n",
    "Your task is to answer in a consistent style.\n",
    "\n",
    "<child>: Teach me about patience.\n",
    "\n",
    "<grandparent>: The river that carves the deepest \\ \n",
    "valley flows from a modest spring; the \\ \n",
    "grandest symphony originates from a single note; \\ \n",
    "the most intricate tapestry begins with a solitary thread.\n",
    "\n",
    "<child>: Teach me about resilience.\n",
    "\"\"\"\n",
    "response = get_completion(prompt)\n",
    "print(response)"
   ]
  },
  {
   "attachments": {},
   "cell_type": "markdown",
   "metadata": {},
   "source": [
    "## <a id='toc1_2_'></a>[Principle 2: give the model \"time to think\"](#toc0_)\n",
    "\n",
    "If the model gives incorrect solutions or makes reasoning errors, request a chain of reasoning or a series of steps.\n",
    "\n",
    "#### <a id='toc1_2_1_1_'></a>[Tactic 1: Specify the steps required to complete the task.](#toc0_)"
   ]
  },
  {
   "cell_type": "code",
   "execution_count": 6,
   "metadata": {},
   "outputs": [
    {
     "name": "stdout",
     "output_type": "stream",
     "text": [
      "Completion for prompt 1:\n",
      "Two siblings, Jack and Jill, go on a quest to fetch water from a well on a hilltop, but misfortune strikes and they both tumble down the hill, returning home slightly battered but with their adventurous spirits undimmed.\n",
      "\n",
      "Deux frères et sœurs, Jack et Jill, partent en quête d'eau d'un puits sur une colline, mais un malheur frappe et ils tombent tous les deux de la colline, rentrant chez eux légèrement meurtris mais avec leurs esprits aventureux intacts. \n",
      "Noms: Jack, Jill.\n",
      "\n",
      "{\n",
      "  \"french_summary\": \"Deux frères et sœurs, Jack et Jill, partent en quête d'eau d'un puits sur une colline, mais un malheur frappe et ils tombent tous les deux de la colline, rentrant chez eux légèrement meurtris mais avec leurs esprits aventureux intacts.\",\n",
      "  \"num_names\": 2\n",
      "}\n"
     ]
    }
   ],
   "source": [
    "# A description of the story of Jack and Jill\n",
    "text = f\"\"\"\n",
    "In a charming village, siblings Jack and Jill set out on \\ \n",
    "a quest to fetch water from a hilltop \\ \n",
    "well. As they climbed, singing joyfully, misfortune \\ \n",
    "struck—Jack tripped on a stone and tumbled \\ \n",
    "down the hill, with Jill following suit. \\ \n",
    "Though slightly battered, the pair returned home to \\ \n",
    "comforting embraces. Despite the mishap, \\ \n",
    "their adventurous spirits remained undimmed, and they \\ \n",
    "continued exploring with delight.\n",
    "\"\"\"\n",
    "\n",
    "prompt_1 = f\"\"\"\n",
    "Perform the following actions: \n",
    "1 - Summarize the following text delimited by triple \\\n",
    "backticks with 1 sentence.\n",
    "2 - Translate the summary into French.\n",
    "3 - List each name in the French summary.\n",
    "4 - Output a json object that contains the following \\\n",
    "keys: french_summary, num_names.\n",
    "\n",
    "Separate your answers with line breaks.\n",
    "\n",
    "Text:\n",
    "```{text}```\n",
    "\"\"\"\n",
    "response = get_completion(prompt_1)\n",
    "print(\"Completion for prompt 1:\")\n",
    "print(response)"
   ]
  },
  {
   "attachments": {},
   "cell_type": "markdown",
   "metadata": {},
   "source": [
    "Example asking for output in a specific format:"
   ]
  },
  {
   "cell_type": "code",
   "execution_count": 7,
   "metadata": {},
   "outputs": [
    {
     "name": "stdout",
     "output_type": "stream",
     "text": [
      "\n",
      "Completion for prompt 2:\n",
      "Summary: Jack and Jill go on a quest to fetch water, but misfortune strikes and they tumble down a hill, returning home slightly battered but with undimmed adventurous spirits. \n",
      "Translation: Jack e Jill vanno in una missione per prendere acqua, ma la sfortuna colpisce e cadono giù da una collina, tornando a casa leggermente malconci ma con spirito avventuroso intatto.\n",
      "Names: Jack, Jill\n",
      "Output JSON: {\"french_summary\": \"Jack and Jill go on a quest to fetch water, but misfortune strikes and they tumble down a hill, returning home slightly battered but with undimmed adventurous spirits.\", \"num_names\": 2}\n"
     ]
    }
   ],
   "source": [
    "prompt_2 = f\"\"\"\n",
    "Your task is to perform the following actions: \n",
    "1 - Summarize the following text delimited by \n",
    "  <> with 1 sentence.\n",
    "2 - Translate the summary into Italian.\n",
    "3 - List each name in the Italian summary.\n",
    "4 - Output a json object that contains the \n",
    "  following keys: french_summary, num_names.\n",
    "\n",
    "Use the following format:\n",
    "Text: <text to summarize>\n",
    "Summary: <summary>\n",
    "Translation: <summary translation>\n",
    "Names: <list of names in Italian summary>\n",
    "Output JSON: <json with summary and num_names>\n",
    "\n",
    "Text: <{text}>\n",
    "\"\"\"\n",
    "response = get_completion(prompt_2)\n",
    "print(\"\\nCompletion for prompt 2:\")\n",
    "print(response)"
   ]
  },
  {
   "attachments": {},
   "cell_type": "markdown",
   "metadata": {},
   "source": [
    "#### <a id='toc1_2_1_2_'></a>[Tactic 2: Ask the model to work out its solution before giving the final answer.](#toc0_)"
   ]
  },
  {
   "cell_type": "code",
   "execution_count": 8,
   "metadata": {},
   "outputs": [
    {
     "name": "stdout",
     "output_type": "stream",
     "text": [
      "The student's solution is correct.\n"
     ]
    }
   ],
   "source": [
    "prompt = f\"\"\"\n",
    "Determine if the student's solution is correct or not.\n",
    "\n",
    "Question:\n",
    "I'm building a solar power installation and I need \\\n",
    "help working out the financials. \n",
    "- Land costs $100 / square foot\n",
    "- I can buy solar panels for $250 / square foot\n",
    "- I negotiated a contract for maintenance that will cost \\\n",
    "me a flat $100k per year, and an additional $10 / square foot \\\n",
    "What is the total cost for the first year of operations \n",
    "as a function of the number of square feet.\n",
    "\n",
    "Student's Solution:\n",
    "Let x be the size of the installation in square feet.\n",
    "Costs:\n",
    "1. Land cost: 100x\n",
    "2. Solar panel cost: 250x\n",
    "3. Maintenance cost: 100,000 + 100x\n",
    "Total cost: 100x + 250x + 100,000 + 100x = 450x + 100,000\n",
    "\"\"\"\n",
    "# The student's solution is not correct. The \"100x\" term in the\n",
    "# maintenance cost should be \"10x\". Therefore, the total cost \n",
    "# should be 360x + 100,000.\n",
    "\n",
    "response = get_completion(prompt)\n",
    "print(response)"
   ]
  },
  {
   "attachments": {},
   "cell_type": "markdown",
   "metadata": {},
   "source": [
    "Oh but the solution is not correct. Ask the model to work out its solution first, to explain its reasoning, before giving the final answer."
   ]
  },
  {
   "cell_type": "code",
   "execution_count": 9,
   "metadata": {},
   "outputs": [
    {
     "name": "stdout",
     "output_type": "stream",
     "text": [
      "Let x be the size of the installation in square feet.\n",
      "\n",
      "Costs:\n",
      "1. Land cost: 100x\n",
      "2. Solar panel cost: 250x\n",
      "3. Maintenance cost: 100,000 + 10x\n",
      "\n",
      "Total cost: 100x + 250x + 100,000 + 10x = 360x + 100,000\n",
      "\n",
      "Is the student's solution the same as actual solution just calculated:\n",
      "No\n",
      "\n",
      "Student grade:\n",
      "Incorrect\n"
     ]
    }
   ],
   "source": [
    "prompt = f\"\"\"\n",
    "Your task is to determine if the student's solution \\\n",
    "is correct or not.\n",
    "To solve the problem do the following:\n",
    "- First, work out your own solution to the problem. \n",
    "- Then compare your solution to the student's solution \\ \n",
    "and evaluate if the student's solution is correct or not. \n",
    "Don't decide if the student's solution is correct until \n",
    "you have done the problem yourself.\n",
    "\n",
    "Use the following format:\n",
    "Question:\n",
    "```\n",
    "question here\n",
    "```\n",
    "Student's solution:\n",
    "```\n",
    "student's solution here\n",
    "```\n",
    "Actual solution:\n",
    "```\n",
    "steps to work out the solution and your solution here\n",
    "```\n",
    "Is the student's solution the same as actual solution \\\n",
    "just calculated:\n",
    "```\n",
    "yes or no\n",
    "```\n",
    "Student grade:\n",
    "```\n",
    "correct or incorrect\n",
    "```\n",
    "\n",
    "Question:\n",
    "```\n",
    "I'm building a solar power installation and I need help \\\n",
    "working out the financials. \n",
    "- Land costs $100 / square foot\n",
    "- I can buy solar panels for $250 / square foot\n",
    "- I negotiated a contract for maintenance that will cost \\\n",
    "me a flat $100k per year, and an additional $10 / square \\\n",
    "foot\n",
    "What is the total cost for the first year of operations \\\n",
    "as a function of the number of square feet.\n",
    "``` \n",
    "Student's solution:\n",
    "```\n",
    "Let x be the size of the installation in square feet.\n",
    "Costs:\n",
    "1. Land cost: 100x\n",
    "2. Solar panel cost: 250x\n",
    "3. Maintenance cost: 100,000 + 100x\n",
    "Total cost: 100x + 250x + 100,000 + 100x = 450x + 100,000\n",
    "```\n",
    "Actual solution:\n",
    "\"\"\"\n",
    "response = get_completion(prompt)\n",
    "print(response)"
   ]
  },
  {
   "attachments": {},
   "cell_type": "markdown",
   "metadata": {},
   "source": [
    "## <a id='toc1_3_'></a>[Model limitations: hallucinations](#toc0_)\n",
    "\n",
    "The model may make statements that sound plausible but are not true. This is due to the model being trained on a large corpus of text and knowledge, but not always perfectly memorizing the information. Therefore, it may make up information when asked about a topic it is not familiar with.\n",
    "\n",
    "Example: Boie is a real company. The product name _AeroGlide UltraSlim Smart Toothbrush_ is not real."
   ]
  },
  {
   "cell_type": "code",
   "execution_count": 10,
   "metadata": {},
   "outputs": [
    {
     "name": "stdout",
     "output_type": "stream",
     "text": [
      "The AeroGlide UltraSlim Smart Toothbrush by Boie is a high-tech toothbrush that uses advanced sonic technology to provide a deep and thorough clean. The toothbrush features a slim and sleek design that makes it easy to hold and maneuver, and it comes with a range of smart features that help you optimize your brushing routine.\n",
      "\n",
      "One of the key features of the AeroGlide UltraSlim Smart Toothbrush is its sonic technology, which uses high-frequency vibrations to break up plaque and bacteria on your teeth and gums. This technology is highly effective at removing even the most stubborn stains and buildup, and it can help you achieve a brighter, healthier smile in just a few weeks.\n",
      "\n",
      "In addition to its sonic technology, the AeroGlide UltraSlim Smart Toothbrush also comes with a range of smart features that help you optimize your brushing routine. These features include a built-in timer that ensures you brush for the recommended two minutes, as well as a pressure sensor that alerts you if you're brushing too hard.\n",
      "\n",
      "Overall, the AeroGlide UltraSlim Smart Toothbrush by Boie is a highly effective and innovative toothbrush that can help you achieve a brighter, healthier smile in no time. Whether you're looking to improve your oral hygiene or simply want a more advanced toothbrush, this product is definitely worth considering.\n"
     ]
    }
   ],
   "source": [
    "prompt = f\"\"\"\n",
    "Tell me about AeroGlide UltraSlim Smart Toothbrush by Boie.\n",
    "\"\"\"\n",
    "response = get_completion(prompt)\n",
    "print(response)"
   ]
  },
  {
   "attachments": {},
   "cell_type": "markdown",
   "metadata": {},
   "source": [
    "#### <a id='toc1_3_1_1_'></a>[Tactic to reduce hallucinations: ask the model to find relevant information to answer the question, and then answer the question based on that information.](#toc0_)"
   ]
  },
  {
   "cell_type": "code",
   "execution_count": 12,
   "metadata": {},
   "outputs": [
    {
     "name": "stdout",
     "output_type": "stream",
     "text": [
      "The AeroGlide UltraSlim Smart Toothbrush by Boie is a high-tech toothbrush that promises to provide a superior cleaning experience. Boie is a company that specializes in creating eco-friendly personal care products that are designed to be both effective and sustainable. The AeroGlide UltraSlim Smart Toothbrush is one of their flagship products, and it features a number of advanced features that set it apart from other toothbrushes on the market.\n",
      "\n",
      "According to the Boie website, the AeroGlide UltraSlim Smart Toothbrush is designed to be ultra-slim and lightweight, making it easy to use and maneuver. The toothbrush also features a powerful motor that delivers up to 40,000 brush strokes per minute, ensuring a thorough cleaning experience. Additionally, the toothbrush is equipped with a smart timer that helps users ensure they are brushing for the recommended two minutes.\n",
      "\n",
      "One of the key features of the AeroGlide UltraSlim Smart Toothbrush is its use of silicone bristles. Unlike traditional toothbrushes that use nylon bristles, silicone bristles are gentle on teeth and gums, making them ideal for people with sensitive teeth or gums. Additionally, silicone bristles are more hygienic than nylon bristles, as they are less likely to harbor bacteria.\n",
      "\n",
      "Overall, the AeroGlide UltraSlim Smart Toothbrush by Boie is a high-tech toothbrush that promises to provide a superior cleaning experience. With its ultra-slim design, powerful motor, and silicone bristles, this toothbrush is a great choice for anyone looking for a more effective and sustainable way to clean their teeth.\n",
      "\n",
      "Sources:\n",
      "\n",
      "- Boie USA. (n.d.). AeroGlide UltraSlim Smart Toothbrush. Retrieved from https://boieusa.com/products/aeroglide-ultraslim-smart-toothbrush\n",
      "- Forbes. (2019, August 22). Boie USA: The Eco-Friendly Personal Care Brand That's Making Waves. Retrieved from https://www.forbes.com/sites/stephanrabimov/2019/08/22/boie-usa-the-eco-friendly-personal-care-brand-thats-making-waves/?sh=5d5c5c7c5c7a\n"
     ]
    }
   ],
   "source": [
    "prompt = f\"\"\"\n",
    "Tell me about AeroGlide UltraSlim Smart Toothbrush by Boie. Find relevant information about the company \\\n",
    "and the product to support your answer. Only provide the description of the product based on the \\\n",
    "information you found. Cite all your sources.\n",
    "\"\"\"\n",
    "response = get_completion(prompt)\n",
    "print(response)"
   ]
  },
  {
   "attachments": {},
   "cell_type": "markdown",
   "metadata": {},
   "source": [
    "It hallucinates the sources as well! This is a widely known problem of GPT-3.5. Seems to happen much less with GPT-4, which is the newest version of OpenAI's GPT model at the time of writing."
   ]
  },
  {
   "attachments": {},
   "cell_type": "markdown",
   "metadata": {},
   "source": [
    "## <a id='toc1_4_'></a>[Own experiment: instructions for wrapping a gift and a tea cup](#toc0_)\n",
    "\n",
    "I am terrible at wrapping gifts. Let's see if GPT-3.5 can help me with that."
   ]
  },
  {
   "cell_type": "code",
   "execution_count": 13,
   "metadata": {},
   "outputs": [
    {
     "name": "stdout",
     "output_type": "stream",
     "text": [
      "Materials:\n",
      "- Wrapping paper\n",
      "- Scissors\n",
      "- Tape\n",
      "- Ribbon or bow\n",
      "- Gift tag (optional)\n",
      "\n",
      "Steps:\n",
      "1. Cut a piece of wrapping paper that is large enough to fully cover the gift. \n",
      "2. Place the gift in the center of the wrapping paper. \n",
      "3. Fold one side of the wrapping paper over the gift and tape it down. \n",
      "4. Fold the other side of the wrapping paper over the gift and tape it down. \n",
      "5. Fold one end of the wrapping paper over the gift and tape it down. \n",
      "6. Fold the other end of the wrapping paper over the gift and tape it down. \n",
      "7. If desired, tie a ribbon or bow around the gift. \n",
      "8. Attach a gift tag with the recipient's name (optional). \n",
      "9. Admire your beautifully wrapped gift!\n"
     ]
    }
   ],
   "source": [
    "prompt = f\"\"\"\n",
    "Write a step-by-step guide on how to wrap a gift. \\\n",
    "Include a list of materials needed and the steps \\\n",
    "to follow, in the following format: \\\n",
    "    Materials: <list of materials> \\\n",
    "    Steps: \\\n",
    "    1. <step 1> \\\n",
    "    2. <step 2> \\\n",
    "    ... \\\n",
    "    N. <step N>\n",
    "\"\"\"\n",
    "\n",
    "response = get_completion(prompt)\n",
    "print(response)"
   ]
  },
  {
   "attachments": {},
   "cell_type": "markdown",
   "metadata": {},
   "source": [
    "It seems it has gone for the simplest approach, but it should work. Let's get things a bit more complex."
   ]
  },
  {
   "cell_type": "code",
   "execution_count": 14,
   "metadata": {},
   "outputs": [
    {
     "name": "stdout",
     "output_type": "stream",
     "text": [
      "Materials:\n",
      "- Wrapping paper\n",
      "- Ribbon or twine\n",
      "- Scissors\n",
      "- Tape (optional)\n",
      "\n",
      "Steps:\n",
      "1. Cut a piece of wrapping paper that is large enough to cover the tea cup. \n",
      "2. Place the tea cup in the center of the wrapping paper. \n",
      "3. Bring the sides of the wrapping paper up and over the tea cup, making sure to leave enough paper to cover the top of the cup. \n",
      "4. Fold the excess paper over the top of the cup and tuck it inside. \n",
      "5. Hold the paper in place and tie a ribbon or twine around the cup, making a bow on top. \n",
      "6. If necessary, use a small piece of tape to secure the ribbon or twine in place. \n",
      "7. Adjust the bow and trim any excess ribbon or twine. \n",
      "8. Your tea cup is now elegantly wrapped and ready to be gifted.\n"
     ]
    }
   ],
   "source": [
    "prompt = f\"\"\"\n",
    "Write a step-by-step guide on how to wrap a tea cup in an \\\n",
    "elegant way, with the least amount of tape possible. \\\n",
    "Include a list of materials needed and the steps \\\n",
    "to follow, in the following format: \\\n",
    "    Materials: <list of materials> \\\n",
    "    Steps: \\\n",
    "    1. <step 1> \\\n",
    "    2. <step 2> \\\n",
    "    ... \\\n",
    "    N. <step N>\n",
    "\"\"\"\n",
    "\n",
    "response = get_completion(prompt)\n",
    "print(response)"
   ]
  },
  {
   "attachments": {},
   "cell_type": "markdown",
   "metadata": {},
   "source": [
    "For the sake of the experiment, of course, I've tried it out. By step 5, I already had a pretty good idea of how the thing would look like.\n",
    "\n",
    "<img src=\"images/wrapped-tea-cup.jpeg\" alt=\"\" width=400px>\n",
    "\n",
    "Maybe the draft of math exercises makes up for the lack of elegance of this wrapping.\n",
    "\n"
   ]
  },
  {
   "attachments": {},
   "cell_type": "markdown",
   "metadata": {},
   "source": [
    "## <a id='toc1_5_'></a>[Another own experiment: analysis of Shakespeare's Sonnet 116](#toc0_)\n",
    "\n",
    "Let's see how GPT-3.5 does with analyzing poetry."
   ]
  },
  {
   "cell_type": "code",
   "execution_count": 16,
   "metadata": {},
   "outputs": [
    {
     "name": "stdout",
     "output_type": "stream",
     "text": [
      "1 - The metre of the poem is iambic pentameter.\n",
      "2 - The rhyme scheme of the poem is ABAB CDCD EFEF GG.\n",
      "3 - The theme of the poem is the constancy and endurance of true love.\n",
      "4 - The poem uses the poetic devices of metaphor, personification, and repetition.\n",
      "5 - Love is an unchanging force that endures all obstacles and is not subject to time or change.\n",
      "6 - The summary is adequate in capturing the main idea of the poem.\n",
      "7 - Do not let me deny the union of two true minds; love is not love if it changes when it finds a change or bends from its firm stand even when a lover is unfaithful; love is a constant star that guides every wandering ship, whose value is beyond measure, even though its altitude can be measured; love is not subject to time, though it may be subject to the physical changes of youth and beauty, it remains constant until the end of time; if I am wrong about this, then I have never written anything, and no man has ever loved.\n",
      "8 - The translation is adequate in conveying the meaning and tone of the original poem.\n"
     ]
    }
   ],
   "source": [
    "text = f\"\"\"\n",
    "Let me not to the marriage of true minds\n",
    "Admit impediments. Love is not love\n",
    "Which alters when it alteration finds,\n",
    "Or bends with the remover to remove:\n",
    "O, no! it is an ever-fixed mark,\n",
    "That looks on tempests and is never shaken;\n",
    "It is the star to every wandering bark,\n",
    "Whose worth's unknown, although his height be taken.\n",
    "Love's not Time's fool, though rosy lips and cheeks\n",
    "Within his bending sickle's compass come;\n",
    "Love alters not with his brief hours and weeks,\n",
    "But bears it out even to the edge of doom.\n",
    "If this be error and upon me proved,\n",
    "I never writ, nor no man ever loved.\n",
    "\"\"\"\n",
    "\n",
    "prompt = f\"\"\"\n",
    "Given the Sonnet 116 by Shakespeare delimited by triple backticks, \\\n",
    "perform the following actions: \\\n",
    "1 - Analyze the metre of the poem. \\\n",
    "2 - Analyze the rhyme scheme of the poem. \\\n",
    "3 - Identify the theme of the poem. \\\n",
    "4 - Identify the use of poetic devices in the poem. \\\n",
    "5 - Summarize the poem with 1 sentence. \\\n",
    "6 - Analyze the adequacy of the summary. \\\n",
    "7 - Translate the poem into modern English. \\\n",
    "8 - Analyze the adequacy of the translation. \\\n",
    "\n",
    "Separate your answers with line breaks, and use the \\\n",
    "following format: \\\n",
    "1 - <answer 1> \\\n",
    "2 - <answer 2> \\\n",
    "... \\\n",
    "N - <answer N>\n",
    "\n",
    "Text:\n",
    "```{text}```\n",
    "\"\"\"\n",
    "\n",
    "response = get_completion(prompt)\n",
    "print(response)"
   ]
  },
  {
   "attachments": {},
   "cell_type": "markdown",
   "metadata": {},
   "source": [
    "Pretty decent. I'd expect more detail regarding the analysis of the summary and the translation, but the translation into modern English is better than I expected."
   ]
  }
 ],
 "metadata": {
  "kernelspec": {
   "display_name": "chatgpt-venv",
   "language": "python",
   "name": "python3"
  },
  "language_info": {
   "codemirror_mode": {
    "name": "ipython",
    "version": 3
   },
   "file_extension": ".py",
   "mimetype": "text/x-python",
   "name": "python",
   "nbconvert_exporter": "python",
   "pygments_lexer": "ipython3",
   "version": "3.9.13"
  },
  "orig_nbformat": 4
 },
 "nbformat": 4,
 "nbformat_minor": 2
}
